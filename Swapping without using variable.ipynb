{
 "cells": [
  {
   "cell_type": "markdown",
   "metadata": {},
   "source": [
    "# WAP to swap two numbers in Python without using the help of temperory veriable"
   ]
  },
  {
   "cell_type": "code",
   "execution_count": 2,
   "metadata": {},
   "outputs": [
    {
     "name": "stdout",
     "output_type": "stream",
     "text": [
      "Enter a 1st number:4\n",
      "Enter a 2nd number:5\n",
      "Entered numbers are 4 and 5\n",
      "Swapped numbers are 5 and 4\n"
     ]
    }
   ],
   "source": [
    "a = int(input(\"Enter a 1st number:\"))\n",
    "b = int(input(\"Enter a 2nd number:\"))\n",
    "print(\"Entered numbers are {} and {}\".format(a,b))\n",
    "a = a+b\n",
    "b = a-b\n",
    "a = a-b\n",
    "print(\"Swapped numbers are {} and {}\".format(a,b))"
   ]
  },
  {
   "cell_type": "code",
   "execution_count": null,
   "metadata": {},
   "outputs": [],
   "source": []
  }
 ],
 "metadata": {
  "kernelspec": {
   "display_name": "Python 3",
   "language": "python",
   "name": "python3"
  },
  "language_info": {
   "codemirror_mode": {
    "name": "ipython",
    "version": 3
   },
   "file_extension": ".py",
   "mimetype": "text/x-python",
   "name": "python",
   "nbconvert_exporter": "python",
   "pygments_lexer": "ipython3",
   "version": "3.7.3"
  }
 },
 "nbformat": 4,
 "nbformat_minor": 4
}
