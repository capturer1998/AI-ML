{
 "cells": [
  {
   "cell_type": "markdown",
   "metadata": {},
   "source": [
    "# Consider a list of 10 elements of integer values. If the number in the list is divisible by 2, print the result as \"square of that number minus 2\"."
   ]
  },
  {
   "cell_type": "code",
   "execution_count": 9,
   "metadata": {},
   "outputs": [
    {
     "name": "stdout",
     "output_type": "stream",
     "text": [
      "Given number is 64 successfuly divided by 2\n",
      "therefore result is 4094\n",
      "Given number is 24 successfuly divided by 2\n",
      "therefore result is 574\n",
      "Given number is 12 successfuly divided by 2\n",
      "therefore result is 142\n",
      "Given number is 34 successfuly divided by 2\n",
      "therefore result is 1154\n",
      "Given number is 76 successfuly divided by 2\n",
      "therefore result is 5774\n",
      "Given number is 90 successfuly divided by 2\n",
      "therefore result is 8098\n"
     ]
    }
   ],
   "source": [
    "my_list = [25,45,64,77,24,12,34,65,76,90]\n",
    "for num in my_list:\n",
    "    if (num%2 == 0):\n",
    "        print(\"Given number is {} successfuly divided by 2\".format(num))\n",
    "        print(\"therefore result is {}\".format((num*num)-2))\n"
   ]
  },
  {
   "cell_type": "code",
   "execution_count": null,
   "metadata": {},
   "outputs": [],
   "source": []
  }
 ],
 "metadata": {
  "kernelspec": {
   "display_name": "Python 3",
   "language": "python",
   "name": "python3"
  },
  "language_info": {
   "codemirror_mode": {
    "name": "ipython",
    "version": 3
   },
   "file_extension": ".py",
   "mimetype": "text/x-python",
   "name": "python",
   "nbconvert_exporter": "python",
   "pygments_lexer": "ipython3",
   "version": "3.7.3"
  }
 },
 "nbformat": 4,
 "nbformat_minor": 4
}
