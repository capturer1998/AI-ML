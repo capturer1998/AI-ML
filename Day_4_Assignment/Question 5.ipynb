{
 "cells": [
  {
   "cell_type": "markdown",
   "metadata": {},
   "source": [
    "# Consider a list of 10 elements. Print all the elements in the list which are greater than 7 then that number is divided 2."
   ]
  },
  {
   "cell_type": "code",
   "execution_count": 9,
   "metadata": {},
   "outputs": [
    {
     "name": "stdout",
     "output_type": "stream",
     "text": [
      "Entered  number 30, which is  greater than 7\n",
      "Therefore that number gives 15.0 on  dividing by 2 \n",
      "Entered  number 67, which is  greater than 7\n",
      "Therefore that number gives 33.5 on  dividing by 2 \n",
      "Entered  number 87, which is  greater than 7\n",
      "Therefore that number gives 43.5 on  dividing by 2 \n",
      "Entered  number 90, which is  greater than 7\n",
      "Therefore that number gives 45.0 on  dividing by 2 \n",
      "Entered  number 54, which is  greater than 7\n",
      "Therefore that number gives 27.0 on  dividing by 2 \n",
      "Entered  number 76, which is  greater than 7\n",
      "Therefore that number gives 38.0 on  dividing by 2 \n",
      "Entered  number 8, which is  greater than 7\n",
      "Therefore that number gives 4.0 on  dividing by 2 \n",
      "Entered  number 39, which is  greater than 7\n",
      "Therefore that number gives 19.5 on  dividing by 2 \n"
     ]
    }
   ],
   "source": [
    "my_list = [30,67,87,90,54,76,4,2,8,39]\n",
    "for i in my_list:\n",
    "    if (i>7):\n",
    "        print(\"Entered  number {}, which is  greater than 7\".format(i))\n",
    "        c= (i/2)\n",
    "        print(\"Therefore that number gives {} on  dividing by 2 \".format(c))\n",
    "        "
   ]
  },
  {
   "cell_type": "code",
   "execution_count": null,
   "metadata": {},
   "outputs": [],
   "source": []
  }
 ],
 "metadata": {
  "kernelspec": {
   "display_name": "Python 3",
   "language": "python",
   "name": "python3"
  },
  "language_info": {
   "codemirror_mode": {
    "name": "ipython",
    "version": 3
   },
   "file_extension": ".py",
   "mimetype": "text/x-python",
   "name": "python",
   "nbconvert_exporter": "python",
   "pygments_lexer": "ipython3",
   "version": "3.7.3"
  }
 },
 "nbformat": 4,
 "nbformat_minor": 4
}
