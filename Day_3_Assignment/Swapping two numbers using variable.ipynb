{
 "cells": [
  {
   "cell_type": "markdown",
   "metadata": {},
   "source": [
    "# WAP to swap two numbers in Python with the help of temperory veriable"
   ]
  },
  {
   "cell_type": "code",
   "execution_count": 24,
   "metadata": {},
   "outputs": [
    {
     "name": "stdout",
     "output_type": "stream",
     "text": [
      "Enter a 1st number:5\n",
      "Enter a 2nd number:6\n",
      "Entered numbers are 5 and 6\n",
      "Swapped numbers are 6 and 5\n"
     ]
    }
   ],
   "source": [
    "a = int(input(\"Enter a 1st number:\"))\n",
    "b = int(input(\"Enter a 2nd number:\"))\n",
    "print(\"Entered numbers are {} and {}\".format(a,b))\n",
    "temp = a\n",
    "a = b\n",
    "b = temp\n",
    "print(\"Swapped numbers are {} and {}\".format(a,b))"
   ]
  },
  {
   "cell_type": "code",
   "execution_count": null,
   "metadata": {},
   "outputs": [],
   "source": []
  }
 ],
 "metadata": {
  "kernelspec": {
   "display_name": "Python 3",
   "language": "python",
   "name": "python3"
  },
  "language_info": {
   "codemirror_mode": {
    "name": "ipython",
    "version": 3
   },
   "file_extension": ".py",
   "mimetype": "text/x-python",
   "name": "python",
   "nbconvert_exporter": "python",
   "pygments_lexer": "ipython3",
   "version": "3.7.3"
  }
 },
 "nbformat": 4,
 "nbformat_minor": 4
}
