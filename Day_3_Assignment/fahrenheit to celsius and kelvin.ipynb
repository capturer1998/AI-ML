{
 "cells": [
  {
   "cell_type": "markdown",
   "metadata": {},
   "source": [
    "# WAP to convert Fahrenheit to Kelvin and Celsius both\n"
   ]
  },
  {
   "cell_type": "code",
   "execution_count": 5,
   "metadata": {},
   "outputs": [
    {
     "name": "stdout",
     "output_type": "stream",
     "text": [
      "Enter temperature in fahrenheit:100\n",
      "fahrenheit to celsius is 37.77777777777778\n",
      "fahrenheit to kelvin is 341.5\n"
     ]
    }
   ],
   "source": [
    "fahrenheit = float(input(\"Enter temperature in fahrenheit:\"))\n",
    "celsius = (fahrenheit-32)*5/9\n",
    "kelvin = 273.5+(fahrenheit-32.0)\n",
    "print(\"fahrenheit to celsius is {}\".format(celsius))\n",
    "print(\"fahrenheit to kelvin is {}\".format(kelvin))"
   ]
  },
  {
   "cell_type": "code",
   "execution_count": null,
   "metadata": {},
   "outputs": [],
   "source": []
  }
 ],
 "metadata": {
  "kernelspec": {
   "display_name": "Python 3",
   "language": "python",
   "name": "python3"
  },
  "language_info": {
   "codemirror_mode": {
    "name": "ipython",
    "version": 3
   },
   "file_extension": ".py",
   "mimetype": "text/x-python",
   "name": "python",
   "nbconvert_exporter": "python",
   "pygments_lexer": "ipython3",
   "version": "3.7.3"
  }
 },
 "nbformat": 4,
 "nbformat_minor": 4
}
